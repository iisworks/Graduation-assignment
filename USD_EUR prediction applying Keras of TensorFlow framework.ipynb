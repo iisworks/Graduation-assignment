{
 "cells": [
  {
   "cell_type": "code",
   "execution_count": 215,
   "id": "ae16db67",
   "metadata": {},
   "outputs": [],
   "source": [
    "from matplotlib import pyplot as plt\n",
    "import requests, pandas as pd, numpy as np\n",
    "from tensorflow import keras\n",
    "from tensorflow.keras import models, layers\n",
    "\n"
   ]
  },
  {
   "cell_type": "code",
   "execution_count": 216,
   "id": "1a3122e3",
   "metadata": {},
   "outputs": [],
   "source": [
    "df = pd.read_csv(\"eurofxref-hist.csv\")"
   ]
  },
  {
   "cell_type": "code",
   "execution_count": 217,
   "id": "57a42cb4",
   "metadata": {},
   "outputs": [
    {
     "data": {
      "text/html": [
       "<div>\n",
       "<style scoped>\n",
       "    .dataframe tbody tr th:only-of-type {\n",
       "        vertical-align: middle;\n",
       "    }\n",
       "\n",
       "    .dataframe tbody tr th {\n",
       "        vertical-align: top;\n",
       "    }\n",
       "\n",
       "    .dataframe thead th {\n",
       "        text-align: right;\n",
       "    }\n",
       "</style>\n",
       "<table border=\"1\" class=\"dataframe\">\n",
       "  <thead>\n",
       "    <tr style=\"text-align: right;\">\n",
       "      <th></th>\n",
       "      <th>Date</th>\n",
       "      <th>USD</th>\n",
       "      <th>JPY</th>\n",
       "      <th>BGN</th>\n",
       "      <th>CYP</th>\n",
       "      <th>CZK</th>\n",
       "      <th>DKK</th>\n",
       "      <th>EEK</th>\n",
       "      <th>GBP</th>\n",
       "      <th>HUF</th>\n",
       "      <th>...</th>\n",
       "      <th>ILS</th>\n",
       "      <th>INR</th>\n",
       "      <th>KRW</th>\n",
       "      <th>MXN</th>\n",
       "      <th>MYR</th>\n",
       "      <th>NZD</th>\n",
       "      <th>PHP</th>\n",
       "      <th>SGD</th>\n",
       "      <th>THB</th>\n",
       "      <th>ZAR</th>\n",
       "    </tr>\n",
       "  </thead>\n",
       "  <tbody>\n",
       "    <tr>\n",
       "      <th>0</th>\n",
       "      <td>29-11-2022</td>\n",
       "      <td>1.0366</td>\n",
       "      <td>143.36</td>\n",
       "      <td>1.9558</td>\n",
       "      <td>NaN</td>\n",
       "      <td>24.334</td>\n",
       "      <td>7.4367</td>\n",
       "      <td>NaN</td>\n",
       "      <td>0.86218</td>\n",
       "      <td>406.50</td>\n",
       "      <td>...</td>\n",
       "      <td>3.5581</td>\n",
       "      <td>84.6548</td>\n",
       "      <td>1375.70</td>\n",
       "      <td>19.8075</td>\n",
       "      <td>4.6735</td>\n",
       "      <td>1.6639</td>\n",
       "      <td>58.640</td>\n",
       "      <td>1.4237</td>\n",
       "      <td>36.706</td>\n",
       "      <td>17.6027</td>\n",
       "    </tr>\n",
       "    <tr>\n",
       "      <th>1</th>\n",
       "      <td>28-11-2022</td>\n",
       "      <td>1.0463</td>\n",
       "      <td>144.90</td>\n",
       "      <td>1.9558</td>\n",
       "      <td>NaN</td>\n",
       "      <td>24.348</td>\n",
       "      <td>7.4367</td>\n",
       "      <td>NaN</td>\n",
       "      <td>0.86606</td>\n",
       "      <td>408.87</td>\n",
       "      <td>...</td>\n",
       "      <td>3.6002</td>\n",
       "      <td>85.4370</td>\n",
       "      <td>1396.56</td>\n",
       "      <td>20.2200</td>\n",
       "      <td>4.6874</td>\n",
       "      <td>1.6827</td>\n",
       "      <td>59.210</td>\n",
       "      <td>1.4375</td>\n",
       "      <td>37.285</td>\n",
       "      <td>17.9376</td>\n",
       "    </tr>\n",
       "    <tr>\n",
       "      <th>2</th>\n",
       "      <td>25-11-2022</td>\n",
       "      <td>1.0375</td>\n",
       "      <td>144.62</td>\n",
       "      <td>1.9558</td>\n",
       "      <td>NaN</td>\n",
       "      <td>24.367</td>\n",
       "      <td>7.4365</td>\n",
       "      <td>NaN</td>\n",
       "      <td>0.85885</td>\n",
       "      <td>411.33</td>\n",
       "      <td>...</td>\n",
       "      <td>3.5551</td>\n",
       "      <td>84.7145</td>\n",
       "      <td>1383.20</td>\n",
       "      <td>20.1069</td>\n",
       "      <td>4.6480</td>\n",
       "      <td>1.6651</td>\n",
       "      <td>58.795</td>\n",
       "      <td>1.4277</td>\n",
       "      <td>37.153</td>\n",
       "      <td>17.7677</td>\n",
       "    </tr>\n",
       "    <tr>\n",
       "      <th>3</th>\n",
       "      <td>24-11-2022</td>\n",
       "      <td>1.0413</td>\n",
       "      <td>143.90</td>\n",
       "      <td>1.9558</td>\n",
       "      <td>NaN</td>\n",
       "      <td>24.392</td>\n",
       "      <td>7.4369</td>\n",
       "      <td>NaN</td>\n",
       "      <td>0.85933</td>\n",
       "      <td>413.33</td>\n",
       "      <td>...</td>\n",
       "      <td>3.5607</td>\n",
       "      <td>85.0295</td>\n",
       "      <td>1382.28</td>\n",
       "      <td>20.1501</td>\n",
       "      <td>4.6806</td>\n",
       "      <td>1.6598</td>\n",
       "      <td>58.992</td>\n",
       "      <td>1.4319</td>\n",
       "      <td>37.258</td>\n",
       "      <td>17.7246</td>\n",
       "    </tr>\n",
       "    <tr>\n",
       "      <th>4</th>\n",
       "      <td>23-11-2022</td>\n",
       "      <td>1.0325</td>\n",
       "      <td>145.75</td>\n",
       "      <td>1.9558</td>\n",
       "      <td>NaN</td>\n",
       "      <td>24.356</td>\n",
       "      <td>7.4370</td>\n",
       "      <td>NaN</td>\n",
       "      <td>0.86369</td>\n",
       "      <td>405.75</td>\n",
       "      <td>...</td>\n",
       "      <td>3.5681</td>\n",
       "      <td>84.4660</td>\n",
       "      <td>1397.42</td>\n",
       "      <td>20.0010</td>\n",
       "      <td>4.7237</td>\n",
       "      <td>1.6718</td>\n",
       "      <td>58.914</td>\n",
       "      <td>1.4295</td>\n",
       "      <td>37.423</td>\n",
       "      <td>17.7103</td>\n",
       "    </tr>\n",
       "    <tr>\n",
       "      <th>...</th>\n",
       "      <td>...</td>\n",
       "      <td>...</td>\n",
       "      <td>...</td>\n",
       "      <td>...</td>\n",
       "      <td>...</td>\n",
       "      <td>...</td>\n",
       "      <td>...</td>\n",
       "      <td>...</td>\n",
       "      <td>...</td>\n",
       "      <td>...</td>\n",
       "      <td>...</td>\n",
       "      <td>...</td>\n",
       "      <td>...</td>\n",
       "      <td>...</td>\n",
       "      <td>...</td>\n",
       "      <td>...</td>\n",
       "      <td>...</td>\n",
       "      <td>...</td>\n",
       "      <td>...</td>\n",
       "      <td>...</td>\n",
       "      <td>...</td>\n",
       "    </tr>\n",
       "    <tr>\n",
       "      <th>6120</th>\n",
       "      <td>08-01-1999</td>\n",
       "      <td>1.1659</td>\n",
       "      <td>130.09</td>\n",
       "      <td>NaN</td>\n",
       "      <td>0.58187</td>\n",
       "      <td>34.938</td>\n",
       "      <td>7.4433</td>\n",
       "      <td>15.6466</td>\n",
       "      <td>0.70940</td>\n",
       "      <td>250.15</td>\n",
       "      <td>...</td>\n",
       "      <td>NaN</td>\n",
       "      <td>NaN</td>\n",
       "      <td>1366.73</td>\n",
       "      <td>NaN</td>\n",
       "      <td>NaN</td>\n",
       "      <td>2.1557</td>\n",
       "      <td>NaN</td>\n",
       "      <td>1.9537</td>\n",
       "      <td>NaN</td>\n",
       "      <td>6.7855</td>\n",
       "    </tr>\n",
       "    <tr>\n",
       "      <th>6121</th>\n",
       "      <td>07-01-1999</td>\n",
       "      <td>1.1632</td>\n",
       "      <td>129.43</td>\n",
       "      <td>NaN</td>\n",
       "      <td>0.58187</td>\n",
       "      <td>34.886</td>\n",
       "      <td>7.4431</td>\n",
       "      <td>15.6466</td>\n",
       "      <td>0.70585</td>\n",
       "      <td>250.09</td>\n",
       "      <td>...</td>\n",
       "      <td>NaN</td>\n",
       "      <td>NaN</td>\n",
       "      <td>1337.16</td>\n",
       "      <td>NaN</td>\n",
       "      <td>NaN</td>\n",
       "      <td>2.1531</td>\n",
       "      <td>NaN</td>\n",
       "      <td>1.9436</td>\n",
       "      <td>NaN</td>\n",
       "      <td>6.8283</td>\n",
       "    </tr>\n",
       "    <tr>\n",
       "      <th>6122</th>\n",
       "      <td>06-01-1999</td>\n",
       "      <td>1.1743</td>\n",
       "      <td>131.42</td>\n",
       "      <td>NaN</td>\n",
       "      <td>0.58200</td>\n",
       "      <td>34.850</td>\n",
       "      <td>7.4452</td>\n",
       "      <td>15.6466</td>\n",
       "      <td>0.70760</td>\n",
       "      <td>250.67</td>\n",
       "      <td>...</td>\n",
       "      <td>NaN</td>\n",
       "      <td>NaN</td>\n",
       "      <td>1359.54</td>\n",
       "      <td>NaN</td>\n",
       "      <td>NaN</td>\n",
       "      <td>2.1890</td>\n",
       "      <td>NaN</td>\n",
       "      <td>1.9699</td>\n",
       "      <td>NaN</td>\n",
       "      <td>6.7307</td>\n",
       "    </tr>\n",
       "    <tr>\n",
       "      <th>6123</th>\n",
       "      <td>05-01-1999</td>\n",
       "      <td>1.1790</td>\n",
       "      <td>130.96</td>\n",
       "      <td>NaN</td>\n",
       "      <td>0.58230</td>\n",
       "      <td>34.917</td>\n",
       "      <td>7.4495</td>\n",
       "      <td>15.6466</td>\n",
       "      <td>0.71220</td>\n",
       "      <td>250.80</td>\n",
       "      <td>...</td>\n",
       "      <td>NaN</td>\n",
       "      <td>NaN</td>\n",
       "      <td>1373.01</td>\n",
       "      <td>NaN</td>\n",
       "      <td>NaN</td>\n",
       "      <td>2.2011</td>\n",
       "      <td>NaN</td>\n",
       "      <td>1.9655</td>\n",
       "      <td>NaN</td>\n",
       "      <td>6.7975</td>\n",
       "    </tr>\n",
       "    <tr>\n",
       "      <th>6124</th>\n",
       "      <td>04-01-1999</td>\n",
       "      <td>1.1789</td>\n",
       "      <td>133.73</td>\n",
       "      <td>NaN</td>\n",
       "      <td>0.58231</td>\n",
       "      <td>35.107</td>\n",
       "      <td>7.4501</td>\n",
       "      <td>15.6466</td>\n",
       "      <td>0.71110</td>\n",
       "      <td>251.48</td>\n",
       "      <td>...</td>\n",
       "      <td>NaN</td>\n",
       "      <td>NaN</td>\n",
       "      <td>1398.59</td>\n",
       "      <td>NaN</td>\n",
       "      <td>NaN</td>\n",
       "      <td>2.2229</td>\n",
       "      <td>NaN</td>\n",
       "      <td>1.9554</td>\n",
       "      <td>NaN</td>\n",
       "      <td>6.9358</td>\n",
       "    </tr>\n",
       "  </tbody>\n",
       "</table>\n",
       "<p>6125 rows × 42 columns</p>\n",
       "</div>"
      ],
      "text/plain": [
       "            Date     USD     JPY     BGN      CYP     CZK     DKK      EEK  \\\n",
       "0     29-11-2022  1.0366  143.36  1.9558      NaN  24.334  7.4367      NaN   \n",
       "1     28-11-2022  1.0463  144.90  1.9558      NaN  24.348  7.4367      NaN   \n",
       "2     25-11-2022  1.0375  144.62  1.9558      NaN  24.367  7.4365      NaN   \n",
       "3     24-11-2022  1.0413  143.90  1.9558      NaN  24.392  7.4369      NaN   \n",
       "4     23-11-2022  1.0325  145.75  1.9558      NaN  24.356  7.4370      NaN   \n",
       "...          ...     ...     ...     ...      ...     ...     ...      ...   \n",
       "6120  08-01-1999  1.1659  130.09     NaN  0.58187  34.938  7.4433  15.6466   \n",
       "6121  07-01-1999  1.1632  129.43     NaN  0.58187  34.886  7.4431  15.6466   \n",
       "6122  06-01-1999  1.1743  131.42     NaN  0.58200  34.850  7.4452  15.6466   \n",
       "6123  05-01-1999  1.1790  130.96     NaN  0.58230  34.917  7.4495  15.6466   \n",
       "6124  04-01-1999  1.1789  133.73     NaN  0.58231  35.107  7.4501  15.6466   \n",
       "\n",
       "          GBP     HUF  ...     ILS      INR      KRW      MXN     MYR     NZD  \\\n",
       "0     0.86218  406.50  ...  3.5581  84.6548  1375.70  19.8075  4.6735  1.6639   \n",
       "1     0.86606  408.87  ...  3.6002  85.4370  1396.56  20.2200  4.6874  1.6827   \n",
       "2     0.85885  411.33  ...  3.5551  84.7145  1383.20  20.1069  4.6480  1.6651   \n",
       "3     0.85933  413.33  ...  3.5607  85.0295  1382.28  20.1501  4.6806  1.6598   \n",
       "4     0.86369  405.75  ...  3.5681  84.4660  1397.42  20.0010  4.7237  1.6718   \n",
       "...       ...     ...  ...     ...      ...      ...      ...     ...     ...   \n",
       "6120  0.70940  250.15  ...     NaN      NaN  1366.73      NaN     NaN  2.1557   \n",
       "6121  0.70585  250.09  ...     NaN      NaN  1337.16      NaN     NaN  2.1531   \n",
       "6122  0.70760  250.67  ...     NaN      NaN  1359.54      NaN     NaN  2.1890   \n",
       "6123  0.71220  250.80  ...     NaN      NaN  1373.01      NaN     NaN  2.2011   \n",
       "6124  0.71110  251.48  ...     NaN      NaN  1398.59      NaN     NaN  2.2229   \n",
       "\n",
       "         PHP     SGD     THB      ZAR  \n",
       "0     58.640  1.4237  36.706  17.6027  \n",
       "1     59.210  1.4375  37.285  17.9376  \n",
       "2     58.795  1.4277  37.153  17.7677  \n",
       "3     58.992  1.4319  37.258  17.7246  \n",
       "4     58.914  1.4295  37.423  17.7103  \n",
       "...      ...     ...     ...      ...  \n",
       "6120     NaN  1.9537     NaN   6.7855  \n",
       "6121     NaN  1.9436     NaN   6.8283  \n",
       "6122     NaN  1.9699     NaN   6.7307  \n",
       "6123     NaN  1.9655     NaN   6.7975  \n",
       "6124     NaN  1.9554     NaN   6.9358  \n",
       "\n",
       "[6125 rows x 42 columns]"
      ]
     },
     "execution_count": 217,
     "metadata": {},
     "output_type": "execute_result"
    }
   ],
   "source": [
    "df"
   ]
  },
  {
   "cell_type": "code",
   "execution_count": 218,
   "id": "39bc718c",
   "metadata": {},
   "outputs": [],
   "source": [
    "df1 = df.drop(['CYP','EEK','LTL','LVL','MTL','ROL','SIT','SKK','RUB','TRL', 'BRL', 'JPY','BGN','CZK', 'DKK', 'EEK',\n",
    "                  'GBP','HUF','ILS','INR','KRW','MXN','MYR','NZD','PHP','SGD', 'THB', 'ZAR','PLN','RON','SEK','CHF','ISK',\n",
    "                   'NOK','HRK','TRY', 'AUD','CAD','CNY','HKD','IDR'], axis=1)"
   ]
  },
  {
   "cell_type": "code",
   "execution_count": 219,
   "id": "69a41d38",
   "metadata": {},
   "outputs": [],
   "source": [
    "df1.to_csv('usd_eur.csv', index =False)"
   ]
  },
  {
   "cell_type": "code",
   "execution_count": 220,
   "id": "2ffbefbd",
   "metadata": {},
   "outputs": [],
   "source": [
    "usd_eur = pd.read_csv('usd_eur.csv', sep = ',')"
   ]
  },
  {
   "cell_type": "code",
   "execution_count": 239,
   "id": "a991c725",
   "metadata": {},
   "outputs": [
    {
     "data": {
      "text/html": [
       "<div>\n",
       "<style scoped>\n",
       "    .dataframe tbody tr th:only-of-type {\n",
       "        vertical-align: middle;\n",
       "    }\n",
       "\n",
       "    .dataframe tbody tr th {\n",
       "        vertical-align: top;\n",
       "    }\n",
       "\n",
       "    .dataframe thead th {\n",
       "        text-align: right;\n",
       "    }\n",
       "</style>\n",
       "<table border=\"1\" class=\"dataframe\">\n",
       "  <thead>\n",
       "    <tr style=\"text-align: right;\">\n",
       "      <th></th>\n",
       "      <th>Date</th>\n",
       "      <th>USD</th>\n",
       "    </tr>\n",
       "  </thead>\n",
       "  <tbody>\n",
       "    <tr>\n",
       "      <th>6120</th>\n",
       "      <td>08-01-1999</td>\n",
       "      <td>1.1659</td>\n",
       "    </tr>\n",
       "    <tr>\n",
       "      <th>6121</th>\n",
       "      <td>07-01-1999</td>\n",
       "      <td>1.1632</td>\n",
       "    </tr>\n",
       "    <tr>\n",
       "      <th>6122</th>\n",
       "      <td>06-01-1999</td>\n",
       "      <td>1.1743</td>\n",
       "    </tr>\n",
       "    <tr>\n",
       "      <th>6123</th>\n",
       "      <td>05-01-1999</td>\n",
       "      <td>1.1790</td>\n",
       "    </tr>\n",
       "    <tr>\n",
       "      <th>6124</th>\n",
       "      <td>04-01-1999</td>\n",
       "      <td>1.1789</td>\n",
       "    </tr>\n",
       "  </tbody>\n",
       "</table>\n",
       "</div>"
      ],
      "text/plain": [
       "            Date     USD\n",
       "6120  08-01-1999  1.1659\n",
       "6121  07-01-1999  1.1632\n",
       "6122  06-01-1999  1.1743\n",
       "6123  05-01-1999  1.1790\n",
       "6124  04-01-1999  1.1789"
      ]
     },
     "execution_count": 239,
     "metadata": {},
     "output_type": "execute_result"
    }
   ],
   "source": [
    "usd_eur. tail(5)"
   ]
  },
  {
   "cell_type": "code",
   "execution_count": 222,
   "id": "6916e9a2",
   "metadata": {},
   "outputs": [],
   "source": [
    "Y=usd_eur.USD"
   ]
  },
  {
   "cell_type": "code",
   "execution_count": 223,
   "id": "520f3d45",
   "metadata": {},
   "outputs": [],
   "source": [
    "X = np.arange(Y.shape[0]).reshape(-1,1)"
   ]
  },
  {
   "cell_type": "code",
   "execution_count": 225,
   "id": "956c320f",
   "metadata": {},
   "outputs": [],
   "source": [
    "sequence_length = 14\n",
    "delay = 14\n",
    "batch_size = 256"
   ]
  },
  {
   "cell_type": "code",
   "execution_count": 226,
   "id": "d7c4a20f",
   "metadata": {},
   "outputs": [
    {
     "name": "stdout",
     "output_type": "stream",
     "text": [
      "num_train_samples: 5206\n",
      "num_val_samples: 919\n"
     ]
    }
   ],
   "source": [
    "num_train_samples = int(0.85*usd_eur.shape[-0])\n",
    "num_val_samples=usd_eur.shape[0] - num_train_samples\n",
    "print('num_train_samples:', num_train_samples)\n",
    "print('num_val_samples:', num_val_samples)"
   ]
  },
  {
   "cell_type": "code",
   "execution_count": 227,
   "id": "e8184aa0",
   "metadata": {},
   "outputs": [
    {
     "data": {
      "text/plain": [
       "array([[   0],\n",
       "       [   1],\n",
       "       [   2],\n",
       "       ...,\n",
       "       [6122],\n",
       "       [6123],\n",
       "       [6124]])"
      ]
     },
     "execution_count": 227,
     "metadata": {},
     "output_type": "execute_result"
    }
   ],
   "source": [
    "X"
   ]
  },
  {
   "cell_type": "code",
   "execution_count": 228,
   "id": "d112c75c",
   "metadata": {},
   "outputs": [],
   "source": [
    "train_dataset = keras.utils.timeseries_dataset_from_array(\n",
    "    Y[:-delay],\n",
    "    targets=Y[delay:],\n",
    "    sequence_length=sequence_length,\n",
    "    shuffle=False,\n",
    "    batch_size=batch_size,\n",
    "    start_index=0,\n",
    "    end_index=num_train_samples)\n",
    "\n",
    "val_dataset = keras.utils.timeseries_dataset_from_array(\n",
    "    Y[:-delay],\n",
    "    targets=Y[delay:],\n",
    "    sequence_length=sequence_length,\n",
    "    shuffle=False,\n",
    "    batch_size=batch_size,\n",
    "    start_index=num_train_samples)"
   ]
  },
  {
   "cell_type": "code",
   "execution_count": 229,
   "id": "fa0f7661",
   "metadata": {},
   "outputs": [
    {
     "name": "stdout",
     "output_type": "stream",
     "text": [
      "samples shape: (256, 14)\n",
      "targets shape: (256,)\n"
     ]
    }
   ],
   "source": [
    "for samples, targets in train_dataset:\n",
    "    print(\"samples shape:\", samples.shape)\n",
    "    print(\"targets shape:\", targets.shape)\n",
    "    break"
   ]
  },
  {
   "cell_type": "code",
   "execution_count": 230,
   "id": "8473f96d",
   "metadata": {},
   "outputs": [
    {
     "data": {
      "text/plain": [
       "TensorShape([256, 14])"
      ]
     },
     "execution_count": 230,
     "metadata": {},
     "output_type": "execute_result"
    }
   ],
   "source": [
    "samples.shape"
   ]
  },
  {
   "cell_type": "code",
   "execution_count": 231,
   "id": "7d456d52",
   "metadata": {},
   "outputs": [
    {
     "data": {
      "text/plain": [
       "<tf.Tensor: shape=(14,), dtype=float64, numpy=\n",
       "array([1.0366, 1.0463, 1.0375, 1.0413, 1.0325, 1.0274, 1.0246, 1.0366,\n",
       "       1.0319, 1.0412, 1.0404, 1.0319, 1.0308, 0.9954])>"
      ]
     },
     "execution_count": 231,
     "metadata": {},
     "output_type": "execute_result"
    }
   ],
   "source": [
    "samples[0]"
   ]
  },
  {
   "cell_type": "code",
   "execution_count": 232,
   "id": "d0e96d93",
   "metadata": {},
   "outputs": [
    {
     "data": {
      "text/plain": [
       "<tf.Tensor: shape=(256,), dtype=float64, numpy=\n",
       "array([1.0039, 0.9996, 0.9993, 0.9872, 0.9753, 0.9908, 0.9947, 0.9914,\n",
       "       0.9951, 1.0037, 1.0023, 0.9861, 0.9851, 0.973 , 0.9811, 0.9778,\n",
       "       0.9835, 0.9739, 0.9717, 0.9739, 0.9706, 0.9723, 0.9697, 0.9797,\n",
       "       0.986 , 0.9915, 0.9891, 0.9764, 0.9748, 0.9706, 0.9565, 0.9644,\n",
       "       0.9646, 0.9754, 0.9884, 0.9906, 0.9986, 0.999 , 0.9954, 0.9992,\n",
       "       0.999 , 1.0175, 1.0155, 1.0049, 1.0009, 0.9885, 0.9928, 0.992 ,\n",
       "       0.9993, 1.0004, 1.    , 1.0034, 0.9986, 1.0007, 0.997 , 0.9934,\n",
       "       0.9927, 1.0001, 1.0054, 1.0178, 1.0164, 1.0131, 1.0195, 1.0285,\n",
       "       1.0338, 1.0252, 1.0234, 1.0199, 1.0233, 1.0181, 1.0194, 1.0224,\n",
       "       1.0233, 1.0198, 1.0122, 1.0152, 1.0124, 1.0236, 1.019 , 1.0199,\n",
       "       1.0199, 1.0245, 1.0131, 1.0059, 1.0005, 1.0067, 1.0042, 1.0098,\n",
       "       1.0163, 1.018 , 1.0177, 1.029 , 1.0455, 1.0425, 1.0387, 1.0517,\n",
       "       1.0561, 1.0572, 1.0524, 1.0493, 1.0521, 1.055 , 1.0517, 1.0486,\n",
       "       1.04  , 1.0431, 1.0452, 1.0455, 1.0578, 1.0743, 1.0739, 1.0662,\n",
       "       1.0726, 1.073 , 1.0692, 1.0712, 1.0713, 1.0764, 1.0722, 1.0697,\n",
       "       1.0656, 1.072 , 1.0659, 1.0577, 1.0525, 1.0523, 1.0541, 1.0422,\n",
       "       1.0385, 1.0408, 1.0553, 1.0554, 1.0559, 1.057 , 1.0568, 1.0531,\n",
       "       1.0556, 1.0524, 1.054 , 1.0485, 1.0583, 1.0674, 1.0746, 1.0817,\n",
       "       1.0887, 1.083 , 1.0803, 1.0878, 1.0826, 1.0861, 1.09  , 1.0861,\n",
       "       1.0916, 1.0923, 1.0969, 1.1005, 1.1052, 1.1101, 1.1126, 1.1085,\n",
       "       1.0966, 1.1002, 1.0978, 1.0985, 1.1024, 1.1038, 1.1008, 1.1051,\n",
       "       1.0994, 1.0991, 1.096 , 1.099 , 1.1084, 1.0993, 1.0892, 1.0895,\n",
       "       1.0929, 1.1076, 1.1106, 1.1162, 1.1199, 1.1216, 1.1163, 1.1344,\n",
       "       1.1342, 1.1338, 1.1354, 1.137 , 1.1372, 1.1345, 1.1316, 1.1417,\n",
       "       1.1439, 1.1435, 1.1408, 1.1447, 1.1464, 1.1286, 1.1323, 1.126 ,\n",
       "       1.1156, 1.1138, 1.116 , 1.1277, 1.1268, 1.1304, 1.1348, 1.1338,\n",
       "       1.1345, 1.1367, 1.1403, 1.1447, 1.1463, 1.137 , 1.1336, 1.1318,\n",
       "       1.1298, 1.1315, 1.1319, 1.1279, 1.1355, 1.1326, 1.1334, 1.1303,\n",
       "       1.1331, 1.1312, 1.1317, 1.131 , 1.1301, 1.1295, 1.1273, 1.133 ,\n",
       "       1.1336, 1.1262, 1.1309, 1.1278, 1.1273, 1.1311, 1.1299, 1.1256,\n",
       "       1.1287, 1.1291, 1.1339, 1.1314, 1.1363, 1.1276, 1.1291, 1.1223,\n",
       "       1.1206, 1.1259, 1.1278, 1.1271, 1.1345, 1.1316, 1.1368, 1.1444])>"
      ]
     },
     "execution_count": 232,
     "metadata": {},
     "output_type": "execute_result"
    }
   ],
   "source": [
    "targets"
   ]
  },
  {
   "cell_type": "code",
   "execution_count": 233,
   "id": "4abb6b97",
   "metadata": {},
   "outputs": [],
   "source": [
    "inputs = keras.Input(shape =(sequence_length,X.shape[-1]))\n",
    "x = layers.LSTM(32, return_sequences = True)(inputs)\n",
    "x = layers.LSTM(32,)(x)\n",
    "outputs = layers.Dense(1)(x)\n",
    "model = keras.Model(inputs, outputs)\n",
    "callbacks = [keras.callbacks.ModelCheckpoint(\"usd_eur.forecast\", save_best_only=True)]\n",
    "model.compile(optimizer=\"rmsprop\", loss = 'mse', metrics=['mae'])"
   ]
  },
  {
   "cell_type": "code",
   "execution_count": 235,
   "id": "72b379a5",
   "metadata": {},
   "outputs": [
    {
     "name": "stdout",
     "output_type": "stream",
     "text": [
      "Epoch 1/20\n",
      "19/21 [==========================>...] - ETA: 0s - loss: 0.0079 - mae: 0.0637"
     ]
    },
    {
     "name": "stderr",
     "output_type": "stream",
     "text": [
      "WARNING:absl:Found untraced functions such as lstm_cell_2_layer_call_fn, lstm_cell_2_layer_call_and_return_conditional_losses, lstm_cell_3_layer_call_fn, lstm_cell_3_layer_call_and_return_conditional_losses while saving (showing 4 of 4). These functions will not be directly callable after loading.\n"
     ]
    },
    {
     "name": "stdout",
     "output_type": "stream",
     "text": [
      "INFO:tensorflow:Assets written to: usd_eur.forecast\\assets\n"
     ]
    },
    {
     "name": "stderr",
     "output_type": "stream",
     "text": [
      "INFO:tensorflow:Assets written to: usd_eur.forecast\\assets\n"
     ]
    },
    {
     "name": "stdout",
     "output_type": "stream",
     "text": [
      "21/21 [==============================] - 19s 945ms/step - loss: 0.0074 - mae: 0.0611 - val_loss: 6.7729e-04 - val_mae: 0.0207\n",
      "Epoch 2/20\n",
      "20/21 [===========================>..] - ETA: 0s - loss: 0.0070 - mae: 0.0614"
     ]
    },
    {
     "name": "stderr",
     "output_type": "stream",
     "text": [
      "WARNING:absl:Found untraced functions such as lstm_cell_2_layer_call_fn, lstm_cell_2_layer_call_and_return_conditional_losses, lstm_cell_3_layer_call_fn, lstm_cell_3_layer_call_and_return_conditional_losses while saving (showing 4 of 4). These functions will not be directly callable after loading.\n"
     ]
    },
    {
     "name": "stdout",
     "output_type": "stream",
     "text": [
      "INFO:tensorflow:Assets written to: usd_eur.forecast\\assets\n"
     ]
    },
    {
     "name": "stderr",
     "output_type": "stream",
     "text": [
      "INFO:tensorflow:Assets written to: usd_eur.forecast\\assets\n"
     ]
    },
    {
     "name": "stdout",
     "output_type": "stream",
     "text": [
      "21/21 [==============================] - 18s 909ms/step - loss: 0.0069 - mae: 0.0608 - val_loss: 6.7521e-04 - val_mae: 0.0211\n",
      "Epoch 3/20\n",
      "21/21 [==============================] - 1s 40ms/step - loss: 0.0060 - mae: 0.0572 - val_loss: 6.9868e-04 - val_mae: 0.0216\n",
      "Epoch 4/20\n",
      "21/21 [==============================] - 1s 37ms/step - loss: 0.0056 - mae: 0.0552 - val_loss: 7.2312e-04 - val_mae: 0.0220\n",
      "Epoch 5/20\n",
      "21/21 [==============================] - 1s 39ms/step - loss: 0.0052 - mae: 0.0534 - val_loss: 7.4267e-04 - val_mae: 0.0223\n",
      "Epoch 6/20\n",
      "21/21 [==============================] - 1s 37ms/step - loss: 0.0049 - mae: 0.0521 - val_loss: 7.5847e-04 - val_mae: 0.0226\n",
      "Epoch 7/20\n",
      "21/21 [==============================] - 1s 37ms/step - loss: 0.0048 - mae: 0.0513 - val_loss: 7.7424e-04 - val_mae: 0.0228\n",
      "Epoch 8/20\n",
      "21/21 [==============================] - 1s 39ms/step - loss: 0.0045 - mae: 0.0501 - val_loss: 7.8356e-04 - val_mae: 0.0229\n",
      "Epoch 9/20\n",
      "21/21 [==============================] - 1s 40ms/step - loss: 0.0044 - mae: 0.0495 - val_loss: 7.9626e-04 - val_mae: 0.0231\n",
      "Epoch 10/20\n",
      "21/21 [==============================] - 1s 39ms/step - loss: 0.0042 - mae: 0.0486 - val_loss: 8.0433e-04 - val_mae: 0.0232\n",
      "Epoch 11/20\n",
      "21/21 [==============================] - 1s 35ms/step - loss: 0.0041 - mae: 0.0480 - val_loss: 8.1116e-04 - val_mae: 0.0232\n",
      "Epoch 12/20\n",
      "21/21 [==============================] - 1s 35ms/step - loss: 0.0039 - mae: 0.0474 - val_loss: 8.1553e-04 - val_mae: 0.0232\n",
      "Epoch 13/20\n",
      "21/21 [==============================] - 1s 39ms/step - loss: 0.0038 - mae: 0.0469 - val_loss: 8.1848e-04 - val_mae: 0.0232\n",
      "Epoch 14/20\n",
      "21/21 [==============================] - 1s 42ms/step - loss: 0.0037 - mae: 0.0464 - val_loss: 8.1936e-04 - val_mae: 0.0231\n",
      "Epoch 15/20\n",
      "21/21 [==============================] - 1s 41ms/step - loss: 0.0037 - mae: 0.0461 - val_loss: 8.1964e-04 - val_mae: 0.0231\n",
      "Epoch 16/20\n",
      "21/21 [==============================] - 1s 40ms/step - loss: 0.0036 - mae: 0.0457 - val_loss: 8.1528e-04 - val_mae: 0.0230\n",
      "Epoch 17/20\n",
      "21/21 [==============================] - 1s 41ms/step - loss: 0.0035 - mae: 0.0453 - val_loss: 8.1103e-04 - val_mae: 0.0229\n",
      "Epoch 18/20\n",
      "21/21 [==============================] - 1s 40ms/step - loss: 0.0034 - mae: 0.0450 - val_loss: 8.0476e-04 - val_mae: 0.0228\n",
      "Epoch 19/20\n",
      "21/21 [==============================] - 1s 40ms/step - loss: 0.0034 - mae: 0.0447 - val_loss: 7.9587e-04 - val_mae: 0.0226\n",
      "Epoch 20/20\n",
      "21/21 [==============================] - 1s 38ms/step - loss: 0.0033 - mae: 0.0443 - val_loss: 7.8423e-04 - val_mae: 0.0224\n"
     ]
    }
   ],
   "source": [
    "history = model.fit(train_dataset,\n",
    "                   epochs = 20,\n",
    "                   validation_data = val_dataset,\n",
    "                   callbacks=callbacks)"
   ]
  },
  {
   "cell_type": "code",
   "execution_count": 236,
   "id": "2e2b8c53",
   "metadata": {},
   "outputs": [
    {
     "name": "stdout",
     "output_type": "stream",
     "text": [
      "4/4 [==============================] - 1s 25ms/step\n"
     ]
    }
   ],
   "source": [
    "pred = model.predict(val_dataset)"
   ]
  },
  {
   "cell_type": "code",
   "execution_count": 237,
   "id": "97846e87",
   "metadata": {},
   "outputs": [
    {
     "data": {
      "text/plain": [
       "(892, 1)"
      ]
     },
     "execution_count": 237,
     "metadata": {},
     "output_type": "execute_result"
    }
   ],
   "source": [
    "pred.shape"
   ]
  },
  {
   "cell_type": "code",
   "execution_count": 238,
   "id": "a5202220",
   "metadata": {},
   "outputs": [
    {
     "data": {
      "text/plain": [
       "[<matplotlib.lines.Line2D at 0x2993b993fd0>]"
      ]
     },
     "execution_count": 238,
     "metadata": {},
     "output_type": "execute_result"
    },
    {
     "data": {
      "image/png": "[encoded data removed]",
      "text/plain": [
       "<Figure size 432x288 with 1 Axes>"
      ]
     },
     "metadata": {
      "needs_background": "light"
     },
     "output_type": "display_data"
    }
   ],
   "source": [
    "plt.plot(range(892),Y[-892:])\n",
    "plt.plot(range(892),pred)"
   ]
  },
  {
   "cell_type": "code",
   "execution_count": null,
   "id": "5ac4aaa4",
   "metadata": {},
   "outputs": [],
   "source": []
  }
 ],
 "metadata": {
  "kernelspec": {
   "display_name": "Python 3 (ipykernel)",
   "language": "python",
   "name": "python3"
  },
  "language_info": {
   "codemirror_mode": {
    "name": "ipython",
    "version": 3
   },
   "file_extension": ".py",
   "mimetype": "text/x-python",
   "name": "python",
   "nbconvert_exporter": "python",
   "pygments_lexer": "ipython3",
   "version": "3.9.12"
  }
 },
 "nbformat": 4,
 "nbformat_minor": 5
}
